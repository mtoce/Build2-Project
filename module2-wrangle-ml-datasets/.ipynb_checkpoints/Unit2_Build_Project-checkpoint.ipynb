{
 "cells": [
  {
   "cell_type": "markdown",
   "metadata": {
    "colab_type": "text",
    "id": "view-in-github"
   },
   "source": [
    "<a href=\"https://colab.research.google.com/github/mtoce/Build2-Project/blob/master/module2-wrangle-ml-datasets/Unit2_Build_Project.ipynb\" target=\"_parent\"><img src=\"https://colab.research.google.com/assets/colab-badge.svg\" alt=\"Open In Colab\"/></a>"
   ]
  },
  {
   "cell_type": "markdown",
   "metadata": {
    "colab_type": "text",
    "id": "nCc3XZEyG3XV"
   },
   "source": [
    "Lambda School Data Science\n",
    "\n",
    "*Unit 2, Sprint 3, Module 1*\n",
    "\n",
    "---\n",
    "\n",
    "\n",
    "# Define ML problems\n",
    "\n",
    "You will use your portfolio project dataset for all assignments this sprint.\n",
    "\n",
    "## Assignment\n",
    "\n",
    "Complete these tasks for your project, and document your decisions.\n",
    "\n",
    "- [ ] Choose your target. Which column in your tabular dataset will you predict?\n",
    "- [ ] Is your problem regression or classification?\n",
    "- [ ] How is your target distributed?\n",
    "    - Classification: How many classes? Are the classes imbalanced?\n",
    "    - Regression: Is the target right-skewed? If so, you may want to log transform the target.\n",
    "- [ ] Choose your evaluation metric(s).\n",
    "    - Classification: Is your majority class frequency >= 50% and < 70% ? If so, you can just use accuracy if you want. Outside that range, accuracy could be misleading. What evaluation metric will you choose, in addition to or instead of accuracy?\n",
    "    - Regression: Will you use mean absolute error, root mean squared error, R^2, or other regression metrics?\n",
    "- [ ] Choose which observations you will use to train, validate, and test your model.\n",
    "    - Are some observations outliers? Will you exclude them?\n",
    "    - Will you do a random split or a time-based split?\n",
    "- [ ] Begin to clean and explore your data.\n",
    "- [ ] Begin to choose which features, if any, to exclude. Would some features \"leak\" future information?\n",
    "\n",
    "If you haven't found a dataset yet, do that today. [Review requirements for your portfolio project](https://lambdaschool.github.io/ds/unit2) and choose your dataset.\n",
    "\n",
    "Some students worry, ***what if my model isn't “good”?*** Then, [produce a detailed tribute to your wrongness. That is science!](https://twitter.com/nathanwpyle/status/1176860147223867393)"
   ]
  },
  {
   "cell_type": "markdown",
   "metadata": {
    "colab_type": "text",
    "id": "eQTynu5xSXfv"
   },
   "source": [
    "## Load Data"
   ]
  },
  {
   "cell_type": "code",
   "execution_count": 0,
   "metadata": {
    "colab": {},
    "colab_type": "code",
    "id": "vr0UKmYBTi1e"
   },
   "outputs": [],
   "source": [
    "# Mikes notebook :)\n",
    "import numpy as np\n",
    "import pandas as pd\n",
    "import matplotlib.pyplot as plt\n",
    "import seaborn as sns"
   ]
  },
  {
   "cell_type": "code",
   "execution_count": 260,
   "metadata": {
    "colab": {
     "base_uri": "https://localhost:8080/",
     "height": 496
    },
    "colab_type": "code",
    "id": "1ZwquceQSWBO",
    "outputId": "2c45a0f7-dc02-44a3-e6c9-0f7bde730707"
   },
   "outputs": [
    {
     "name": "stdout",
     "output_type": "stream",
     "text": [
      "(8274, 29)\n"
     ]
    },
    {
     "data": {
      "text/html": [
       "<div>\n",
       "<style scoped>\n",
       "    .dataframe tbody tr th:only-of-type {\n",
       "        vertical-align: middle;\n",
       "    }\n",
       "\n",
       "    .dataframe tbody tr th {\n",
       "        vertical-align: top;\n",
       "    }\n",
       "\n",
       "    .dataframe thead th {\n",
       "        text-align: right;\n",
       "    }\n",
       "</style>\n",
       "<table border=\"1\" class=\"dataframe\">\n",
       "  <thead>\n",
       "    <tr style=\"text-align: right;\">\n",
       "      <th></th>\n",
       "      <th>game_id</th>\n",
       "      <th>game_pk</th>\n",
       "      <th>game_date</th>\n",
       "      <th>opponent</th>\n",
       "      <th>final_away_runs</th>\n",
       "      <th>final_home_runs</th>\n",
       "      <th>inning</th>\n",
       "      <th>top_bottom</th>\n",
       "      <th>batter</th>\n",
       "      <th>at_bat_event</th>\n",
       "      <th>pitch_type_code</th>\n",
       "      <th>pitch_category</th>\n",
       "      <th>has_bangs</th>\n",
       "      <th>bangs</th>\n",
       "      <th>call_code</th>\n",
       "      <th>description</th>\n",
       "      <th>on_1b</th>\n",
       "      <th>on_2b</th>\n",
       "      <th>on_3b</th>\n",
       "      <th>youtube_id</th>\n",
       "      <th>pitch_youtube_seconds</th>\n",
       "      <th>youtube_url</th>\n",
       "      <th>pitch_datetime</th>\n",
       "      <th>game_pitch_id</th>\n",
       "      <th>event_number</th>\n",
       "      <th>pitch_playid</th>\n",
       "      <th>atbat_playid</th>\n",
       "      <th>away_team_id</th>\n",
       "      <th>home_team_id</th>\n",
       "    </tr>\n",
       "  </thead>\n",
       "  <tbody>\n",
       "    <tr>\n",
       "      <th>0</th>\n",
       "      <td>2017_04_03_seamlb_houmlb_1</td>\n",
       "      <td>490111</td>\n",
       "      <td>3/4/2017</td>\n",
       "      <td>SEA</td>\n",
       "      <td>0</td>\n",
       "      <td>3</td>\n",
       "      <td>1</td>\n",
       "      <td>bottom</td>\n",
       "      <td>George Springer</td>\n",
       "      <td>Home Run</td>\n",
       "      <td>SI</td>\n",
       "      <td>FB</td>\n",
       "      <td>n</td>\n",
       "      <td>NaN</td>\n",
       "      <td>B</td>\n",
       "      <td>Ball</td>\n",
       "      <td>f</td>\n",
       "      <td>f</td>\n",
       "      <td>f</td>\n",
       "      <td>af5e55Cc8ZA</td>\n",
       "      <td>1473</td>\n",
       "      <td>https://www.youtube.com/watch?v=af5e55Cc8ZA&amp;t=...</td>\n",
       "      <td>3/4/2017 19:24:41-05:05</td>\n",
       "      <td>170404002442</td>\n",
       "      <td>32</td>\n",
       "      <td>ca9ed282-a9c3-45a6-ac10-d216fae7ce8b</td>\n",
       "      <td>1421aabe-7063-4902-9a46-4b2c239394cb</td>\n",
       "      <td>136</td>\n",
       "      <td>117</td>\n",
       "    </tr>\n",
       "    <tr>\n",
       "      <th>1</th>\n",
       "      <td>2017_04_03_seamlb_houmlb_1</td>\n",
       "      <td>490111</td>\n",
       "      <td>3/4/2017</td>\n",
       "      <td>SEA</td>\n",
       "      <td>0</td>\n",
       "      <td>3</td>\n",
       "      <td>1</td>\n",
       "      <td>bottom</td>\n",
       "      <td>George Springer</td>\n",
       "      <td>Home Run</td>\n",
       "      <td>SI</td>\n",
       "      <td>FB</td>\n",
       "      <td>n</td>\n",
       "      <td>NaN</td>\n",
       "      <td>F</td>\n",
       "      <td>Foul</td>\n",
       "      <td>f</td>\n",
       "      <td>f</td>\n",
       "      <td>f</td>\n",
       "      <td>af5e55Cc8ZA</td>\n",
       "      <td>1489</td>\n",
       "      <td>https://www.youtube.com/watch?v=af5e55Cc8ZA&amp;t=...</td>\n",
       "      <td>3/4/2017 19:24:57-05:05</td>\n",
       "      <td>170404002458</td>\n",
       "      <td>33</td>\n",
       "      <td>7f89900c-faed-485c-a6b6-41c0a2b1c26f</td>\n",
       "      <td>1421aabe-7063-4902-9a46-4b2c239394cb</td>\n",
       "      <td>136</td>\n",
       "      <td>117</td>\n",
       "    </tr>\n",
       "    <tr>\n",
       "      <th>2</th>\n",
       "      <td>2017_04_03_seamlb_houmlb_1</td>\n",
       "      <td>490111</td>\n",
       "      <td>3/4/2017</td>\n",
       "      <td>SEA</td>\n",
       "      <td>0</td>\n",
       "      <td>3</td>\n",
       "      <td>1</td>\n",
       "      <td>bottom</td>\n",
       "      <td>George Springer</td>\n",
       "      <td>Home Run</td>\n",
       "      <td>SL</td>\n",
       "      <td>BR</td>\n",
       "      <td>n</td>\n",
       "      <td>NaN</td>\n",
       "      <td>B</td>\n",
       "      <td>Ball</td>\n",
       "      <td>f</td>\n",
       "      <td>f</td>\n",
       "      <td>f</td>\n",
       "      <td>af5e55Cc8ZA</td>\n",
       "      <td>1512</td>\n",
       "      <td>https://www.youtube.com/watch?v=af5e55Cc8ZA&amp;t=...</td>\n",
       "      <td>3/4/2017 19:25:20-05:05</td>\n",
       "      <td>170404002521</td>\n",
       "      <td>34</td>\n",
       "      <td>6c875b0c-b4e3-4521-b1c0-447ee785bff9</td>\n",
       "      <td>1421aabe-7063-4902-9a46-4b2c239394cb</td>\n",
       "      <td>136</td>\n",
       "      <td>117</td>\n",
       "    </tr>\n",
       "    <tr>\n",
       "      <th>3</th>\n",
       "      <td>2017_04_03_seamlb_houmlb_1</td>\n",
       "      <td>490111</td>\n",
       "      <td>3/4/2017</td>\n",
       "      <td>SEA</td>\n",
       "      <td>0</td>\n",
       "      <td>3</td>\n",
       "      <td>1</td>\n",
       "      <td>bottom</td>\n",
       "      <td>George Springer</td>\n",
       "      <td>Home Run</td>\n",
       "      <td>SI</td>\n",
       "      <td>FB</td>\n",
       "      <td>n</td>\n",
       "      <td>NaN</td>\n",
       "      <td>E</td>\n",
       "      <td>In play, run(s)</td>\n",
       "      <td>f</td>\n",
       "      <td>f</td>\n",
       "      <td>f</td>\n",
       "      <td>af5e55Cc8ZA</td>\n",
       "      <td>1529</td>\n",
       "      <td>https://www.youtube.com/watch?v=af5e55Cc8ZA&amp;t=...</td>\n",
       "      <td>3/4/2017 19:25:37-05:05</td>\n",
       "      <td>170404002538</td>\n",
       "      <td>35</td>\n",
       "      <td>1421aabe-7063-4902-9a46-4b2c239394cb</td>\n",
       "      <td>1421aabe-7063-4902-9a46-4b2c239394cb</td>\n",
       "      <td>136</td>\n",
       "      <td>117</td>\n",
       "    </tr>\n",
       "    <tr>\n",
       "      <th>4</th>\n",
       "      <td>2017_04_03_seamlb_houmlb_1</td>\n",
       "      <td>490111</td>\n",
       "      <td>3/4/2017</td>\n",
       "      <td>SEA</td>\n",
       "      <td>0</td>\n",
       "      <td>3</td>\n",
       "      <td>1</td>\n",
       "      <td>bottom</td>\n",
       "      <td>Alex Bregman</td>\n",
       "      <td>Single</td>\n",
       "      <td>FF</td>\n",
       "      <td>FB</td>\n",
       "      <td>n</td>\n",
       "      <td>NaN</td>\n",
       "      <td>D</td>\n",
       "      <td>In play, no out</td>\n",
       "      <td>f</td>\n",
       "      <td>f</td>\n",
       "      <td>f</td>\n",
       "      <td>af5e55Cc8ZA</td>\n",
       "      <td>1580</td>\n",
       "      <td>https://www.youtube.com/watch?v=af5e55Cc8ZA&amp;t=...</td>\n",
       "      <td>3/4/2017 19:26:28-05:05</td>\n",
       "      <td>170404002636</td>\n",
       "      <td>40</td>\n",
       "      <td>3a7c0b8b-3b0c-4832-90d0-5d8425d0b995</td>\n",
       "      <td>3a7c0b8b-3b0c-4832-90d0-5d8425d0b995</td>\n",
       "      <td>136</td>\n",
       "      <td>117</td>\n",
       "    </tr>\n",
       "  </tbody>\n",
       "</table>\n",
       "</div>"
      ],
      "text/plain": [
       "                      game_id  game_pk  ... away_team_id home_team_id\n",
       "0  2017_04_03_seamlb_houmlb_1   490111  ...          136          117\n",
       "1  2017_04_03_seamlb_houmlb_1   490111  ...          136          117\n",
       "2  2017_04_03_seamlb_houmlb_1   490111  ...          136          117\n",
       "3  2017_04_03_seamlb_houmlb_1   490111  ...          136          117\n",
       "4  2017_04_03_seamlb_houmlb_1   490111  ...          136          117\n",
       "\n",
       "[5 rows x 29 columns]"
      ]
     },
     "execution_count": 260,
     "metadata": {
      "tags": []
     },
     "output_type": "execute_result"
    }
   ],
   "source": [
    "df = pd.read_csv('astros_bangs_20200127.csv')\n",
    "print(df.shape)\n",
    "df.head()"
   ]
  },
  {
   "cell_type": "markdown",
   "metadata": {
    "colab_type": "text",
    "id": "ybqhaqlVYdHZ"
   },
   "source": [
    "## Choose Target and Decide Approach\n",
    "\n",
    "\n",
    "Our target variable is the column which records if the Astros used bangs to tip the pitcher's pitch to the hitter. We want to predict whether they will attempt to steal signs depending on different conditions in the baseball game.\n",
    "\n",
    "\n",
    "The type of problem is a binary (2-class) classification here: are they cheating or not?\n",
    "\n",
    "\n",
    "The classes are somewhat misbalanced, with the chance of bangs only being a mere **13.8%**.\n",
    "\n",
    "\n",
    "\n",
    "```\n",
    "# df['has_bangs'].value_counts(normalize=True)\n",
    "```\n",
    "\n",
    "\n",
    "This gives us our baseline. Our baseline guess is the majority class, being that the Astro's are NOT cheating by stealing signs and banging drums to give info to hitter.\n"
   ]
  },
  {
   "cell_type": "code",
   "execution_count": 0,
   "metadata": {
    "colab": {},
    "colab_type": "code",
    "id": "0Do4_GdRiqwR"
   },
   "outputs": [],
   "source": [
    "def feature_engineering(X):\n",
    "  '''\n",
    "  Engineer new features for dataframe X.\n",
    "  '''\n",
    "  hit_list = ['Single', 'Double', 'Triple', 'Home Run']\n",
    "  obp_list = ['Single', 'Double', 'Triple', 'Home Run', 'Walk', 'Hit By Pitch', 'Sac Fly']\n",
    "  out_list = ['Strikeout', 'Double Play',\n",
    "       'Grounded Into DP', 'Catcher Interference', 'Flyout', 'Groundout',\n",
    "       'Lineout', 'Sac Fly', 'Fan interference', 'Pop Out',\n",
    "       'Double', 'Forceout', 'Sac Bunt', 'Strikeout - DP', 'Fielders Choice Out',\n",
    "       'Bunt Groundout', 'Bunt Pop Out']\n",
    "  inning_ends = ['Runner Out', 'Batter Interference']\n",
    "  X['hit'] = X['at_bat_event'].isin(hit_list)\n",
    "  X['on_base'] = X['at_bat_event'].isin(obp_list)\n",
    "                                          \n",
    "  return X"
   ]
  },
  {
   "cell_type": "code",
   "execution_count": 0,
   "metadata": {
    "colab": {},
    "colab_type": "code",
    "id": "CNTcnh8Eqvbi"
   },
   "outputs": [],
   "source": [
    "df = feature_engineering(df)"
   ]
  },
  {
   "cell_type": "code",
   "execution_count": 0,
   "metadata": {
    "colab": {},
    "colab_type": "code",
    "id": "qheD2TcWoX-b"
   },
   "outputs": [],
   "source": [
    "# define target\n",
    "y = 'has_bangs'"
   ]
  },
  {
   "cell_type": "code",
   "execution_count": 0,
   "metadata": {
    "colab": {},
    "colab_type": "code",
    "id": "j_4A_9caigLx"
   },
   "outputs": [],
   "source": [
    "no_interference = ['Home Run', 'Single', 'Strikeout', 'Double Play', \n",
    "                   'Grounded Into DP', 'Flyout', 'Groundout', 'Lineout', 'Walk',\n",
    "                   'Sac Fly', 'Pop Out', 'Double', 'Forceout', 'Field Error', \n",
    "                   'Sac Bunt', 'Hit By Pitch', 'Strikeout - DP', 'Triple', \n",
    "                   'Fielders Choice Out', 'Bunt Groundout', 'Bunt Pop Out']"
   ]
  },
  {
   "cell_type": "code",
   "execution_count": 0,
   "metadata": {
    "colab": {},
    "colab_type": "code",
    "id": "f6scsDxfSWGQ"
   },
   "outputs": [],
   "source": [
    "# define a function to do initial data cleaning\n",
    "def wrangle(X):\n",
    "  '''\n",
    "  Wrangle function for DF before train_test_split\n",
    "  '''\n",
    "\n",
    "  X = X.copy()\n",
    "\n",
    "  # Change game_date to a datetime for ease of use\n",
    "  X['game_date'] = pd.to_datetime(X['game_date'], infer_datetime_format=True)\n",
    "\n",
    "  # Replace some character strings with numbers\n",
    "  X['has_bangs'] = X['has_bangs'].replace({'n': 0, 'y': 1})\n",
    "  X['on_1b'] = X['on_1b'].replace({'t': 1, 'f': 0})\n",
    "  X['on_2b'] = X['on_2b'].replace({'t': 1, 'f': 0})\n",
    "  X['on_3b'] = X['on_3b'].replace({'t': 1, 'f': 0})\n",
    "  X['hit'] = X['hit'].replace({True: 1, False: 0})\n",
    "  X['on_base'] = X['on_base'].replace({True: 1, False: 0})\n",
    "  \n",
    "  # Drop these columns since they are video playback related or contain no cardinality\n",
    "  X = X.drop(columns=['youtube_id', 'pitch_youtube_seconds', 'youtube_url', \n",
    "                      'pitch_datetime', 'game_pitch_id', 'event_number', \n",
    "                      'pitch_playid', 'atbat_playid', 'bangs'])\n",
    "\n",
    "  # Save only data where bangs occured (95% of df), remove the rest\n",
    "  games_with_bangs_list = X[(X[y]==1)].game_date.to_list()\n",
    "  X = X[X['game_date'].isin(games_with_bangs_list)]\n",
    "  \n",
    "  # Remove rows with runners getting out to end the inning (<.2% of outcomes)\n",
    "  # Since it will conflict with batting average and obp calculations\n",
    "  X = X[X['at_bat_event'].isin(no_interference)]\n",
    "\n",
    "  return X"
   ]
  },
  {
   "cell_type": "code",
   "execution_count": 266,
   "metadata": {
    "colab": {
     "base_uri": "https://localhost:8080/",
     "height": 326
    },
    "colab_type": "code",
    "id": "u-kA4J0aXy3P",
    "outputId": "9c25ff37-9990-4b31-fabd-49552b8adee4"
   },
   "outputs": [
    {
     "name": "stdout",
     "output_type": "stream",
     "text": [
      "(7875, 22)\n"
     ]
    },
    {
     "data": {
      "text/html": [
       "<div>\n",
       "<style scoped>\n",
       "    .dataframe tbody tr th:only-of-type {\n",
       "        vertical-align: middle;\n",
       "    }\n",
       "\n",
       "    .dataframe tbody tr th {\n",
       "        vertical-align: top;\n",
       "    }\n",
       "\n",
       "    .dataframe thead th {\n",
       "        text-align: right;\n",
       "    }\n",
       "</style>\n",
       "<table border=\"1\" class=\"dataframe\">\n",
       "  <thead>\n",
       "    <tr style=\"text-align: right;\">\n",
       "      <th></th>\n",
       "      <th>game_id</th>\n",
       "      <th>game_pk</th>\n",
       "      <th>game_date</th>\n",
       "      <th>opponent</th>\n",
       "      <th>final_away_runs</th>\n",
       "      <th>final_home_runs</th>\n",
       "      <th>inning</th>\n",
       "      <th>top_bottom</th>\n",
       "      <th>batter</th>\n",
       "      <th>at_bat_event</th>\n",
       "      <th>pitch_type_code</th>\n",
       "      <th>pitch_category</th>\n",
       "      <th>has_bangs</th>\n",
       "      <th>call_code</th>\n",
       "      <th>description</th>\n",
       "      <th>on_1b</th>\n",
       "      <th>on_2b</th>\n",
       "      <th>on_3b</th>\n",
       "      <th>away_team_id</th>\n",
       "      <th>home_team_id</th>\n",
       "      <th>hit</th>\n",
       "      <th>on_base</th>\n",
       "    </tr>\n",
       "  </thead>\n",
       "  <tbody>\n",
       "    <tr>\n",
       "      <th>0</th>\n",
       "      <td>2017_04_03_seamlb_houmlb_1</td>\n",
       "      <td>490111</td>\n",
       "      <td>2017-03-04</td>\n",
       "      <td>SEA</td>\n",
       "      <td>0</td>\n",
       "      <td>3</td>\n",
       "      <td>1</td>\n",
       "      <td>bottom</td>\n",
       "      <td>George Springer</td>\n",
       "      <td>Home Run</td>\n",
       "      <td>SI</td>\n",
       "      <td>FB</td>\n",
       "      <td>0</td>\n",
       "      <td>B</td>\n",
       "      <td>Ball</td>\n",
       "      <td>0</td>\n",
       "      <td>0</td>\n",
       "      <td>0</td>\n",
       "      <td>136</td>\n",
       "      <td>117</td>\n",
       "      <td>1</td>\n",
       "      <td>1</td>\n",
       "    </tr>\n",
       "    <tr>\n",
       "      <th>1</th>\n",
       "      <td>2017_04_03_seamlb_houmlb_1</td>\n",
       "      <td>490111</td>\n",
       "      <td>2017-03-04</td>\n",
       "      <td>SEA</td>\n",
       "      <td>0</td>\n",
       "      <td>3</td>\n",
       "      <td>1</td>\n",
       "      <td>bottom</td>\n",
       "      <td>George Springer</td>\n",
       "      <td>Home Run</td>\n",
       "      <td>SI</td>\n",
       "      <td>FB</td>\n",
       "      <td>0</td>\n",
       "      <td>F</td>\n",
       "      <td>Foul</td>\n",
       "      <td>0</td>\n",
       "      <td>0</td>\n",
       "      <td>0</td>\n",
       "      <td>136</td>\n",
       "      <td>117</td>\n",
       "      <td>1</td>\n",
       "      <td>1</td>\n",
       "    </tr>\n",
       "    <tr>\n",
       "      <th>2</th>\n",
       "      <td>2017_04_03_seamlb_houmlb_1</td>\n",
       "      <td>490111</td>\n",
       "      <td>2017-03-04</td>\n",
       "      <td>SEA</td>\n",
       "      <td>0</td>\n",
       "      <td>3</td>\n",
       "      <td>1</td>\n",
       "      <td>bottom</td>\n",
       "      <td>George Springer</td>\n",
       "      <td>Home Run</td>\n",
       "      <td>SL</td>\n",
       "      <td>BR</td>\n",
       "      <td>0</td>\n",
       "      <td>B</td>\n",
       "      <td>Ball</td>\n",
       "      <td>0</td>\n",
       "      <td>0</td>\n",
       "      <td>0</td>\n",
       "      <td>136</td>\n",
       "      <td>117</td>\n",
       "      <td>1</td>\n",
       "      <td>1</td>\n",
       "    </tr>\n",
       "    <tr>\n",
       "      <th>3</th>\n",
       "      <td>2017_04_03_seamlb_houmlb_1</td>\n",
       "      <td>490111</td>\n",
       "      <td>2017-03-04</td>\n",
       "      <td>SEA</td>\n",
       "      <td>0</td>\n",
       "      <td>3</td>\n",
       "      <td>1</td>\n",
       "      <td>bottom</td>\n",
       "      <td>George Springer</td>\n",
       "      <td>Home Run</td>\n",
       "      <td>SI</td>\n",
       "      <td>FB</td>\n",
       "      <td>0</td>\n",
       "      <td>E</td>\n",
       "      <td>In play, run(s)</td>\n",
       "      <td>0</td>\n",
       "      <td>0</td>\n",
       "      <td>0</td>\n",
       "      <td>136</td>\n",
       "      <td>117</td>\n",
       "      <td>1</td>\n",
       "      <td>1</td>\n",
       "    </tr>\n",
       "    <tr>\n",
       "      <th>4</th>\n",
       "      <td>2017_04_03_seamlb_houmlb_1</td>\n",
       "      <td>490111</td>\n",
       "      <td>2017-03-04</td>\n",
       "      <td>SEA</td>\n",
       "      <td>0</td>\n",
       "      <td>3</td>\n",
       "      <td>1</td>\n",
       "      <td>bottom</td>\n",
       "      <td>Alex Bregman</td>\n",
       "      <td>Single</td>\n",
       "      <td>FF</td>\n",
       "      <td>FB</td>\n",
       "      <td>0</td>\n",
       "      <td>D</td>\n",
       "      <td>In play, no out</td>\n",
       "      <td>0</td>\n",
       "      <td>0</td>\n",
       "      <td>0</td>\n",
       "      <td>136</td>\n",
       "      <td>117</td>\n",
       "      <td>1</td>\n",
       "      <td>1</td>\n",
       "    </tr>\n",
       "  </tbody>\n",
       "</table>\n",
       "</div>"
      ],
      "text/plain": [
       "                      game_id  game_pk  game_date  ... home_team_id  hit  on_base\n",
       "0  2017_04_03_seamlb_houmlb_1   490111 2017-03-04  ...          117    1        1\n",
       "1  2017_04_03_seamlb_houmlb_1   490111 2017-03-04  ...          117    1        1\n",
       "2  2017_04_03_seamlb_houmlb_1   490111 2017-03-04  ...          117    1        1\n",
       "3  2017_04_03_seamlb_houmlb_1   490111 2017-03-04  ...          117    1        1\n",
       "4  2017_04_03_seamlb_houmlb_1   490111 2017-03-04  ...          117    1        1\n",
       "\n",
       "[5 rows x 22 columns]"
      ]
     },
     "execution_count": 266,
     "metadata": {
      "tags": []
     },
     "output_type": "execute_result"
    }
   ],
   "source": [
    "df = wrangle(df)\n",
    "print(df.shape)\n",
    "df.head()"
   ]
  },
  {
   "cell_type": "code",
   "execution_count": 267,
   "metadata": {
    "colab": {
     "base_uri": "https://localhost:8080/",
     "height": 309
    },
    "colab_type": "code",
    "id": "rxiVXDQxoVvV",
    "outputId": "5875a47f-a860-4635-a4d0-79f6d5e42a20"
   },
   "outputs": [
    {
     "data": {
      "text/html": [
       "<div>\n",
       "<style scoped>\n",
       "    .dataframe tbody tr th:only-of-type {\n",
       "        vertical-align: middle;\n",
       "    }\n",
       "\n",
       "    .dataframe tbody tr th {\n",
       "        vertical-align: top;\n",
       "    }\n",
       "\n",
       "    .dataframe thead th {\n",
       "        text-align: right;\n",
       "    }\n",
       "</style>\n",
       "<table border=\"1\" class=\"dataframe\">\n",
       "  <thead>\n",
       "    <tr style=\"text-align: right;\">\n",
       "      <th></th>\n",
       "      <th>game_id</th>\n",
       "      <th>game_pk</th>\n",
       "      <th>game_date</th>\n",
       "      <th>opponent</th>\n",
       "      <th>final_away_runs</th>\n",
       "      <th>final_home_runs</th>\n",
       "      <th>inning</th>\n",
       "      <th>top_bottom</th>\n",
       "      <th>batter</th>\n",
       "      <th>at_bat_event</th>\n",
       "      <th>pitch_type_code</th>\n",
       "      <th>pitch_category</th>\n",
       "      <th>call_code</th>\n",
       "      <th>description</th>\n",
       "      <th>on_1b</th>\n",
       "      <th>on_2b</th>\n",
       "      <th>on_3b</th>\n",
       "      <th>away_team_id</th>\n",
       "      <th>home_team_id</th>\n",
       "      <th>hit</th>\n",
       "      <th>on_base</th>\n",
       "    </tr>\n",
       "  </thead>\n",
       "  <tbody>\n",
       "    <tr>\n",
       "      <th>0</th>\n",
       "      <td>2017_04_03_seamlb_houmlb_1</td>\n",
       "      <td>490111</td>\n",
       "      <td>2017-03-04</td>\n",
       "      <td>SEA</td>\n",
       "      <td>0</td>\n",
       "      <td>3</td>\n",
       "      <td>1</td>\n",
       "      <td>bottom</td>\n",
       "      <td>George Springer</td>\n",
       "      <td>Home Run</td>\n",
       "      <td>SI</td>\n",
       "      <td>FB</td>\n",
       "      <td>B</td>\n",
       "      <td>Ball</td>\n",
       "      <td>0</td>\n",
       "      <td>0</td>\n",
       "      <td>0</td>\n",
       "      <td>136</td>\n",
       "      <td>117</td>\n",
       "      <td>1</td>\n",
       "      <td>1</td>\n",
       "    </tr>\n",
       "    <tr>\n",
       "      <th>1</th>\n",
       "      <td>2017_04_03_seamlb_houmlb_1</td>\n",
       "      <td>490111</td>\n",
       "      <td>2017-03-04</td>\n",
       "      <td>SEA</td>\n",
       "      <td>0</td>\n",
       "      <td>3</td>\n",
       "      <td>1</td>\n",
       "      <td>bottom</td>\n",
       "      <td>George Springer</td>\n",
       "      <td>Home Run</td>\n",
       "      <td>SI</td>\n",
       "      <td>FB</td>\n",
       "      <td>F</td>\n",
       "      <td>Foul</td>\n",
       "      <td>0</td>\n",
       "      <td>0</td>\n",
       "      <td>0</td>\n",
       "      <td>136</td>\n",
       "      <td>117</td>\n",
       "      <td>1</td>\n",
       "      <td>1</td>\n",
       "    </tr>\n",
       "    <tr>\n",
       "      <th>2</th>\n",
       "      <td>2017_04_03_seamlb_houmlb_1</td>\n",
       "      <td>490111</td>\n",
       "      <td>2017-03-04</td>\n",
       "      <td>SEA</td>\n",
       "      <td>0</td>\n",
       "      <td>3</td>\n",
       "      <td>1</td>\n",
       "      <td>bottom</td>\n",
       "      <td>George Springer</td>\n",
       "      <td>Home Run</td>\n",
       "      <td>SL</td>\n",
       "      <td>BR</td>\n",
       "      <td>B</td>\n",
       "      <td>Ball</td>\n",
       "      <td>0</td>\n",
       "      <td>0</td>\n",
       "      <td>0</td>\n",
       "      <td>136</td>\n",
       "      <td>117</td>\n",
       "      <td>1</td>\n",
       "      <td>1</td>\n",
       "    </tr>\n",
       "    <tr>\n",
       "      <th>3</th>\n",
       "      <td>2017_04_03_seamlb_houmlb_1</td>\n",
       "      <td>490111</td>\n",
       "      <td>2017-03-04</td>\n",
       "      <td>SEA</td>\n",
       "      <td>0</td>\n",
       "      <td>3</td>\n",
       "      <td>1</td>\n",
       "      <td>bottom</td>\n",
       "      <td>George Springer</td>\n",
       "      <td>Home Run</td>\n",
       "      <td>SI</td>\n",
       "      <td>FB</td>\n",
       "      <td>E</td>\n",
       "      <td>In play, run(s)</td>\n",
       "      <td>0</td>\n",
       "      <td>0</td>\n",
       "      <td>0</td>\n",
       "      <td>136</td>\n",
       "      <td>117</td>\n",
       "      <td>1</td>\n",
       "      <td>1</td>\n",
       "    </tr>\n",
       "    <tr>\n",
       "      <th>4</th>\n",
       "      <td>2017_04_03_seamlb_houmlb_1</td>\n",
       "      <td>490111</td>\n",
       "      <td>2017-03-04</td>\n",
       "      <td>SEA</td>\n",
       "      <td>0</td>\n",
       "      <td>3</td>\n",
       "      <td>1</td>\n",
       "      <td>bottom</td>\n",
       "      <td>Alex Bregman</td>\n",
       "      <td>Single</td>\n",
       "      <td>FF</td>\n",
       "      <td>FB</td>\n",
       "      <td>D</td>\n",
       "      <td>In play, no out</td>\n",
       "      <td>0</td>\n",
       "      <td>0</td>\n",
       "      <td>0</td>\n",
       "      <td>136</td>\n",
       "      <td>117</td>\n",
       "      <td>1</td>\n",
       "      <td>1</td>\n",
       "    </tr>\n",
       "  </tbody>\n",
       "</table>\n",
       "</div>"
      ],
      "text/plain": [
       "                      game_id  game_pk  game_date  ... home_team_id  hit  on_base\n",
       "0  2017_04_03_seamlb_houmlb_1   490111 2017-03-04  ...          117    1        1\n",
       "1  2017_04_03_seamlb_houmlb_1   490111 2017-03-04  ...          117    1        1\n",
       "2  2017_04_03_seamlb_houmlb_1   490111 2017-03-04  ...          117    1        1\n",
       "3  2017_04_03_seamlb_houmlb_1   490111 2017-03-04  ...          117    1        1\n",
       "4  2017_04_03_seamlb_houmlb_1   490111 2017-03-04  ...          117    1        1\n",
       "\n",
       "[5 rows x 21 columns]"
      ]
     },
     "execution_count": 267,
     "metadata": {
      "tags": []
     },
     "output_type": "execute_result"
    }
   ],
   "source": [
    "X = df.drop(y, axis=1)\n",
    "X.head()"
   ]
  },
  {
   "cell_type": "code",
   "execution_count": 268,
   "metadata": {
    "colab": {
     "base_uri": "https://localhost:8080/",
     "height": 68
    },
    "colab_type": "code",
    "id": "VmN40sH2itvm",
    "outputId": "96b8428e-bf61-476c-9bc3-59f92d120eda"
   },
   "outputs": [
    {
     "name": "stdout",
     "output_type": "stream",
     "text": [
      "Train Shape:  (4725, 21)\n",
      "Test Shape:  (1575, 21)\n",
      "Validation Shape:  (1575, 21)\n"
     ]
    }
   ],
   "source": [
    "from sklearn.model_selection import train_test_split\n",
    "X_train, X_test, y_train, y_test = train_test_split(X, df[y], test_size=0.2, random_state=17)\n",
    "\n",
    "X_train, X_val, y_train, y_val = train_test_split(X_train, y_train, test_size=0.25, random_state=17) # 0.25 x 0.8 = 0.2\n",
    "\n",
    "print('Train Shape: ', X_train.shape)\n",
    "print('Test Shape: ', X_test.shape)\n",
    "print('Validation Shape: ', X_val.shape)"
   ]
  },
  {
   "cell_type": "code",
   "execution_count": 269,
   "metadata": {
    "colab": {
     "base_uri": "https://localhost:8080/",
     "height": 204
    },
    "colab_type": "code",
    "id": "dGPZC1yrWjal",
    "outputId": "1348b05f-7a3f-487e-bd55-917883e3bcb9"
   },
   "outputs": [
    {
     "name": "stdout",
     "output_type": "stream",
     "text": [
      "Requirement already satisfied: category_encoders in /usr/local/lib/python3.6/dist-packages (2.1.0)\n",
      "Requirement already satisfied: pandas>=0.21.1 in /usr/local/lib/python3.6/dist-packages (from category_encoders) (1.0.3)\n",
      "Requirement already satisfied: numpy>=1.11.3 in /usr/local/lib/python3.6/dist-packages (from category_encoders) (1.18.2)\n",
      "Requirement already satisfied: patsy>=0.4.1 in /usr/local/lib/python3.6/dist-packages (from category_encoders) (0.5.1)\n",
      "Requirement already satisfied: scipy>=0.19.0 in /usr/local/lib/python3.6/dist-packages (from category_encoders) (1.4.1)\n",
      "Requirement already satisfied: scikit-learn>=0.20.0 in /usr/local/lib/python3.6/dist-packages (from category_encoders) (0.22.2.post1)\n",
      "Requirement already satisfied: statsmodels>=0.6.1 in /usr/local/lib/python3.6/dist-packages (from category_encoders) (0.10.2)\n",
      "Requirement already satisfied: pytz>=2017.2 in /usr/local/lib/python3.6/dist-packages (from pandas>=0.21.1->category_encoders) (2018.9)\n",
      "Requirement already satisfied: python-dateutil>=2.6.1 in /usr/local/lib/python3.6/dist-packages (from pandas>=0.21.1->category_encoders) (2.8.1)\n",
      "Requirement already satisfied: six in /usr/local/lib/python3.6/dist-packages (from patsy>=0.4.1->category_encoders) (1.12.0)\n",
      "Requirement already satisfied: joblib>=0.11 in /usr/local/lib/python3.6/dist-packages (from scikit-learn>=0.20.0->category_encoders) (0.14.1)\n"
     ]
    }
   ],
   "source": [
    "!pip install category_encoders"
   ]
  },
  {
   "cell_type": "code",
   "execution_count": 0,
   "metadata": {
    "colab": {},
    "colab_type": "code",
    "id": "WAQVC6afVWKJ"
   },
   "outputs": [],
   "source": [
    "from sklearn.pipeline import make_pipeline\n",
    "from sklearn.impute import SimpleImputer\n",
    "import category_encoders as ce\n",
    "from sklearn.feature_selection import SelectKBest\n",
    "from sklearn.ensemble import RandomForestClassifier\n",
    "from sklearn.model_selection import RandomizedSearchCV, GridSearchCV\n",
    "\n",
    "pipeline = make_pipeline(\n",
    "    SimpleImputer(),\n",
    "    ce.OrdinalEncoder(),\n",
    "    SelectKBest(),\n",
    "    RandomForestClassifier(n_jobs=-1, n_estimators=24),\n",
    ")"
   ]
  },
  {
   "cell_type": "code",
   "execution_count": 272,
   "metadata": {
    "colab": {
     "base_uri": "https://localhost:8080/",
     "height": 952
    },
    "colab_type": "code",
    "id": "edhh7XD9vmdp",
    "outputId": "bdfb9f3c-ea7f-4613-fee2-946b8d82a634"
   },
   "outputs": [
    {
     "name": "stdout",
     "output_type": "stream",
     "text": [
      "Fitting 3 folds for each of 100 candidates, totalling 300 fits\n"
     ]
    },
    {
     "name": "stderr",
     "output_type": "stream",
     "text": [
      "[Parallel(n_jobs=-1)]: Using backend LokyBackend with 2 concurrent workers.\n",
      "[Parallel(n_jobs=-1)]: Done   1 tasks      | elapsed:    1.2s\n",
      "[Parallel(n_jobs=-1)]: Done   4 tasks      | elapsed:    1.3s\n",
      "[Parallel(n_jobs=-1)]: Done   9 tasks      | elapsed:    1.4s\n",
      "[Parallel(n_jobs=-1)]: Done  14 tasks      | elapsed:    3.1s\n",
      "[Parallel(n_jobs=-1)]: Done  21 tasks      | elapsed:    3.3s\n",
      "[Parallel(n_jobs=-1)]: Done  28 tasks      | elapsed:    4.8s\n",
      "[Parallel(n_jobs=-1)]: Done  37 tasks      | elapsed:    5.7s\n",
      "[Parallel(n_jobs=-1)]: Batch computation too fast (0.1923s.) Setting batch_size=2.\n",
      "[Parallel(n_jobs=-1)]: Done  46 tasks      | elapsed:    6.0s\n",
      "[Parallel(n_jobs=-1)]: Done  66 tasks      | elapsed:    9.1s\n",
      "[Parallel(n_jobs=-1)]: Done  88 tasks      | elapsed:   12.5s\n",
      "[Parallel(n_jobs=-1)]: Done 114 tasks      | elapsed:   15.5s\n",
      "[Parallel(n_jobs=-1)]: Done 140 tasks      | elapsed:   20.0s\n",
      "[Parallel(n_jobs=-1)]: Done 170 tasks      | elapsed:   21.7s\n",
      "[Parallel(n_jobs=-1)]: Done 200 tasks      | elapsed:   24.0s\n",
      "[Parallel(n_jobs=-1)]: Done 234 tasks      | elapsed:   28.3s\n",
      "[Parallel(n_jobs=-1)]: Done 268 tasks      | elapsed:   32.9s\n",
      "[Parallel(n_jobs=-1)]: Done 300 out of 300 | elapsed:   36.3s finished\n",
      "/usr/local/lib/python3.6/dist-packages/sklearn/feature_selection/_univariate_selection.py:114: UserWarning: Features [ 7 18] are constant.\n",
      "  UserWarning)\n",
      "/usr/local/lib/python3.6/dist-packages/sklearn/feature_selection/_univariate_selection.py:115: RuntimeWarning: invalid value encountered in true_divide\n",
      "  f = msb / msw\n"
     ]
    },
    {
     "data": {
      "text/plain": [
       "RandomizedSearchCV(cv=3, error_score=nan,\n",
       "                   estimator=Pipeline(memory=None,\n",
       "                                      steps=[('simpleimputer',\n",
       "                                              SimpleImputer(add_indicator=False,\n",
       "                                                            copy=True,\n",
       "                                                            fill_value=None,\n",
       "                                                            missing_values=nan,\n",
       "                                                            strategy='most_frequent',\n",
       "                                                            verbose=0)),\n",
       "                                             ('ordinalencoder',\n",
       "                                              OrdinalEncoder(cols=None,\n",
       "                                                             drop_invariant=False,\n",
       "                                                             handle_missing='value',\n",
       "                                                             handle_unknown='value',\n",
       "                                                             mapping=None,\n",
       "                                                             return_df=True,\n",
       "                                                             v...\n",
       "                                        'randomforestclassifier__min_samples_split': [6,\n",
       "                                                                                      8,\n",
       "                                                                                      10,\n",
       "                                                                                      12,\n",
       "                                                                                      14],\n",
       "                                        'randomforestclassifier__n_estimators': [25],\n",
       "                                        'randomforestclassifier__oob_score': [True,\n",
       "                                                                              False],\n",
       "                                        'selectkbest__k': [10, 15, 20, 25, 30],\n",
       "                                        'simpleimputer__strategy': ['mean',\n",
       "                                                                    'median',\n",
       "                                                                    'most_frequent']},\n",
       "                   pre_dispatch='2*n_jobs', random_state=None, refit=True,\n",
       "                   return_train_score=True, scoring='accuracy', verbose=10)"
      ]
     },
     "execution_count": 272,
     "metadata": {
      "tags": []
     },
     "output_type": "execute_result"
    }
   ],
   "source": [
    "param_distributions = {\n",
    "    'randomforestclassifier__n_estimators': [25],\n",
    "    'randomforestclassifier__max_depth': [None, 30, 32, 34, 36],\n",
    "    'randomforestclassifier__min_samples_split': [6, 8, 10, 12, 14],\n",
    "    'randomforestclassifier__criterion': ['gini', 'entropy'],\n",
    "    'randomforestclassifier__min_samples_leaf': [1, 2],\n",
    "    'randomforestclassifier__max_leaf_nodes': [None],\n",
    "    'randomforestclassifier__oob_score': [True, False],\n",
    "    'selectkbest__k': [10, 15, 20, 25, 30],\n",
    "    'simpleimputer__strategy': ['mean', 'median', 'most_frequent'],\n",
    "}\n",
    "\n",
    "search = RandomizedSearchCV(\n",
    "  pipeline,\n",
    "  param_distributions=param_distributions,\n",
    "  n_iter=100,\n",
    "  cv=3,\n",
    "  scoring='accuracy',\n",
    "  verbose=10,\n",
    "  return_train_score=True,\n",
    "  n_jobs=-1\n",
    ")\n",
    "\n",
    "search.fit(X_train, y_train)"
   ]
  },
  {
   "cell_type": "code",
   "execution_count": 273,
   "metadata": {
    "colab": {
     "base_uri": "https://localhost:8080/",
     "height": 71
    },
    "colab_type": "code",
    "id": "zQiTKiZVvKqK",
    "outputId": "0341ffa3-8329-4103-c54d-ce8fe0034727"
   },
   "outputs": [
    {
     "name": "stdout",
     "output_type": "stream",
     "text": [
      "Best hyperparameters:  {'simpleimputer__strategy': 'most_frequent', 'selectkbest__k': 10, 'randomforestclassifier__oob_score': True, 'randomforestclassifier__n_estimators': 25, 'randomforestclassifier__min_samples_split': 8, 'randomforestclassifier__min_samples_leaf': 2, 'randomforestclassifier__max_leaf_nodes': None, 'randomforestclassifier__max_depth': None, 'randomforestclassifier__criterion': 'entropy'}\n",
      "Cross-validation Accuracy:  0.9132275132275133\n"
     ]
    }
   ],
   "source": [
    "print('Best hyperparameters: ', search.best_params_)\n",
    "print('Cross-validation Accuracy: ', search.best_score_)"
   ]
  },
  {
   "cell_type": "code",
   "execution_count": 274,
   "metadata": {
    "colab": {
     "base_uri": "https://localhost:8080/",
     "height": 476
    },
    "colab_type": "code",
    "id": "04stilDdWYXa",
    "outputId": "20729b47-ddfc-4dec-83de-590985d48df9"
   },
   "outputs": [
    {
     "name": "stderr",
     "output_type": "stream",
     "text": [
      "/usr/local/lib/python3.6/dist-packages/sklearn/feature_selection/_univariate_selection.py:114: UserWarning: Features [ 7 18] are constant.\n",
      "  UserWarning)\n",
      "/usr/local/lib/python3.6/dist-packages/sklearn/feature_selection/_univariate_selection.py:115: RuntimeWarning: invalid value encountered in true_divide\n",
      "  f = msb / msw\n"
     ]
    },
    {
     "data": {
      "text/plain": [
       "Pipeline(memory=None,\n",
       "         steps=[('simpleimputer',\n",
       "                 SimpleImputer(add_indicator=False, copy=True, fill_value=None,\n",
       "                               missing_values=nan, strategy='most_frequent',\n",
       "                               verbose=0)),\n",
       "                ('ordinalencoder',\n",
       "                 OrdinalEncoder(cols=[0, 3, 7, 8, 9, 10, 11, 12, 13],\n",
       "                                drop_invariant=False, handle_missing='value',\n",
       "                                handle_unknown='value',\n",
       "                                mapping=[{'col': 0, 'data_type': dtype('O'),\n",
       "                                          'mapping': 2017_05_2...\n",
       "                 RandomForestClassifier(bootstrap=True, ccp_alpha=0.0,\n",
       "                                        class_weight=None, criterion='gini',\n",
       "                                        max_depth=None, max_features='auto',\n",
       "                                        max_leaf_nodes=None, max_samples=None,\n",
       "                                        min_impurity_decrease=0.0,\n",
       "                                        min_impurity_split=None,\n",
       "                                        min_samples_leaf=1, min_samples_split=2,\n",
       "                                        min_weight_fraction_leaf=0.0,\n",
       "                                        n_estimators=24, n_jobs=-1,\n",
       "                                        oob_score=False, random_state=None,\n",
       "                                        verbose=0, warm_start=False))],\n",
       "         verbose=False)"
      ]
     },
     "execution_count": 274,
     "metadata": {
      "tags": []
     },
     "output_type": "execute_result"
    }
   ],
   "source": [
    "pipeline.fit(X_train, y_train)"
   ]
  },
  {
   "cell_type": "code",
   "execution_count": 0,
   "metadata": {
    "colab": {},
    "colab_type": "code",
    "id": "8Ae671OS01IO"
   },
   "outputs": [],
   "source": [
    "pipeline = search.best_estimator_"
   ]
  },
  {
   "cell_type": "code",
   "execution_count": 276,
   "metadata": {
    "colab": {
     "base_uri": "https://localhost:8080/",
     "height": 119
    },
    "colab_type": "code",
    "id": "0r7l10qE087d",
    "outputId": "ee7fe91b-4a06-4efd-a936-a3d77c28c122"
   },
   "outputs": [
    {
     "name": "stderr",
     "output_type": "stream",
     "text": [
      "/usr/local/lib/python3.6/dist-packages/sklearn/feature_selection/_univariate_selection.py:114: UserWarning: Features [ 7 18] are constant.\n",
      "  UserWarning)\n",
      "/usr/local/lib/python3.6/dist-packages/sklearn/feature_selection/_univariate_selection.py:115: RuntimeWarning: invalid value encountered in true_divide\n",
      "  f = msb / msw\n"
     ]
    },
    {
     "name": "stdout",
     "output_type": "stream",
     "text": [
      "Pipeline-best Train Accuracy:  0.939047619047619\n",
      "Pipeline-best Validation Accuracy:  0.9180952380952381\n"
     ]
    }
   ],
   "source": [
    "pipeline.fit(X_train, y_train)\n",
    "\n",
    "print('Pipeline-best Train Accuracy: ', pipeline.score(X_train, y_train))\n",
    "print('Pipeline-best Validation Accuracy: ', pipeline.score(X_val, y_val))"
   ]
  },
  {
   "cell_type": "code",
   "execution_count": 0,
   "metadata": {
    "colab": {},
    "colab_type": "code",
    "id": "B9vDJVxNW6gi"
   },
   "outputs": [],
   "source": [
    "y_pred = pipeline.predict(X_test)"
   ]
  },
  {
   "cell_type": "code",
   "execution_count": 278,
   "metadata": {
    "colab": {
     "base_uri": "https://localhost:8080/",
     "height": 34
    },
    "colab_type": "code",
    "id": "PGQ8eGMrXQTx",
    "outputId": "973c3409-969b-4036-e88b-8e6c540801c7"
   },
   "outputs": [
    {
     "data": {
      "text/plain": [
       "0.9015873015873016"
      ]
     },
     "execution_count": 278,
     "metadata": {
      "tags": []
     },
     "output_type": "execute_result"
    }
   ],
   "source": [
    "pipeline.score(X_test, y_test)"
   ]
  },
  {
   "cell_type": "code",
   "execution_count": 279,
   "metadata": {
    "colab": {
     "base_uri": "https://localhost:8080/",
     "height": 51
    },
    "colab_type": "code",
    "id": "rE7NzGEFXYqj",
    "outputId": "c1448ac8-0e32-420f-c194-78938c28a8fb"
   },
   "outputs": [
    {
     "data": {
      "text/plain": [
       "array([0.39266789, 0.00275862, 0.14944742, ..., 0.        , 0.52789205,\n",
       "       0.02852422])"
      ]
     },
     "execution_count": 279,
     "metadata": {
      "tags": []
     },
     "output_type": "execute_result"
    }
   ],
   "source": [
    "y_pred_prob = pipeline.predict_proba(X_val)[:, 1]\n",
    "y_pred_prob"
   ]
  },
  {
   "cell_type": "code",
   "execution_count": 0,
   "metadata": {
    "colab": {},
    "colab_type": "code",
    "id": "jrBj--8o1Yqp"
   },
   "outputs": [],
   "source": [
    "from sklearn.metrics import roc_curve\n",
    "fpr, tpr, thresholds = roc_curve(y_val, y_pred_prob)"
   ]
  },
  {
   "cell_type": "code",
   "execution_count": 281,
   "metadata": {
    "colab": {
     "base_uri": "https://localhost:8080/",
     "height": 419
    },
    "colab_type": "code",
    "id": "LN-Cnrkb1o_m",
    "outputId": "ae158d0e-0ef9-41b7-84dd-24fc546d8f50"
   },
   "outputs": [
    {
     "data": {
      "text/html": [
       "<div>\n",
       "<style scoped>\n",
       "    .dataframe tbody tr th:only-of-type {\n",
       "        vertical-align: middle;\n",
       "    }\n",
       "\n",
       "    .dataframe tbody tr th {\n",
       "        vertical-align: top;\n",
       "    }\n",
       "\n",
       "    .dataframe thead th {\n",
       "        text-align: right;\n",
       "    }\n",
       "</style>\n",
       "<table border=\"1\" class=\"dataframe\">\n",
       "  <thead>\n",
       "    <tr style=\"text-align: right;\">\n",
       "      <th></th>\n",
       "      <th>False Positive Rate</th>\n",
       "      <th>True Positive Rate</th>\n",
       "      <th>Threshold</th>\n",
       "    </tr>\n",
       "  </thead>\n",
       "  <tbody>\n",
       "    <tr>\n",
       "      <th>0</th>\n",
       "      <td>0.000000</td>\n",
       "      <td>0.000000</td>\n",
       "      <td>1.973905</td>\n",
       "    </tr>\n",
       "    <tr>\n",
       "      <th>1</th>\n",
       "      <td>0.000000</td>\n",
       "      <td>0.004405</td>\n",
       "      <td>0.973905</td>\n",
       "    </tr>\n",
       "    <tr>\n",
       "      <th>2</th>\n",
       "      <td>0.000000</td>\n",
       "      <td>0.022026</td>\n",
       "      <td>0.960000</td>\n",
       "    </tr>\n",
       "    <tr>\n",
       "      <th>3</th>\n",
       "      <td>0.000742</td>\n",
       "      <td>0.026432</td>\n",
       "      <td>0.955423</td>\n",
       "    </tr>\n",
       "    <tr>\n",
       "      <th>4</th>\n",
       "      <td>0.001484</td>\n",
       "      <td>0.026432</td>\n",
       "      <td>0.952889</td>\n",
       "    </tr>\n",
       "    <tr>\n",
       "      <th>...</th>\n",
       "      <td>...</td>\n",
       "      <td>...</td>\n",
       "      <td>...</td>\n",
       "    </tr>\n",
       "    <tr>\n",
       "      <th>394</th>\n",
       "      <td>0.655045</td>\n",
       "      <td>0.973568</td>\n",
       "      <td>0.001481</td>\n",
       "    </tr>\n",
       "    <tr>\n",
       "      <th>395</th>\n",
       "      <td>0.667656</td>\n",
       "      <td>0.973568</td>\n",
       "      <td>0.001053</td>\n",
       "    </tr>\n",
       "    <tr>\n",
       "      <th>396</th>\n",
       "      <td>0.669139</td>\n",
       "      <td>0.973568</td>\n",
       "      <td>0.000976</td>\n",
       "    </tr>\n",
       "    <tr>\n",
       "      <th>397</th>\n",
       "      <td>0.669881</td>\n",
       "      <td>0.973568</td>\n",
       "      <td>0.000930</td>\n",
       "    </tr>\n",
       "    <tr>\n",
       "      <th>398</th>\n",
       "      <td>1.000000</td>\n",
       "      <td>1.000000</td>\n",
       "      <td>0.000000</td>\n",
       "    </tr>\n",
       "  </tbody>\n",
       "</table>\n",
       "<p>399 rows × 3 columns</p>\n",
       "</div>"
      ],
      "text/plain": [
       "     False Positive Rate  True Positive Rate  Threshold\n",
       "0               0.000000            0.000000   1.973905\n",
       "1               0.000000            0.004405   0.973905\n",
       "2               0.000000            0.022026   0.960000\n",
       "3               0.000742            0.026432   0.955423\n",
       "4               0.001484            0.026432   0.952889\n",
       "..                   ...                 ...        ...\n",
       "394             0.655045            0.973568   0.001481\n",
       "395             0.667656            0.973568   0.001053\n",
       "396             0.669139            0.973568   0.000976\n",
       "397             0.669881            0.973568   0.000930\n",
       "398             1.000000            1.000000   0.000000\n",
       "\n",
       "[399 rows x 3 columns]"
      ]
     },
     "execution_count": 281,
     "metadata": {
      "tags": []
     },
     "output_type": "execute_result"
    }
   ],
   "source": [
    "pd.DataFrame({\n",
    "    'False Positive Rate': fpr, \n",
    "    'True Positive Rate': tpr, \n",
    "    'Threshold': thresholds\n",
    "})"
   ]
  },
  {
   "cell_type": "code",
   "execution_count": 282,
   "metadata": {
    "colab": {
     "base_uri": "https://localhost:8080/",
     "height": 295
    },
    "colab_type": "code",
    "id": "Fdm9LOLv1rvZ",
    "outputId": "7fd72d76-8c7b-40fb-ca22-e37bc848225f"
   },
   "outputs": [
    {
     "data": {
      "image/png": "[encoded data removed]",
      "text/plain": [
       "<Figure size 432x288 with 1 Axes>"
      ]
     },
     "metadata": {
      "needs_background": "light",
      "tags": []
     },
     "output_type": "display_data"
    }
   ],
   "source": [
    "plt.scatter(fpr, tpr)\n",
    "plt.title('ROC curve')\n",
    "plt.xlabel('False Positive Rate')\n",
    "plt.ylabel('True Positive Rate');"
   ]
  },
  {
   "cell_type": "code",
   "execution_count": 283,
   "metadata": {
    "colab": {
     "base_uri": "https://localhost:8080/",
     "height": 34
    },
    "colab_type": "code",
    "id": "_837BPzo1s-8",
    "outputId": "a4a311dd-bfe3-41c3-b559-5931470d7d3d"
   },
   "outputs": [
    {
     "data": {
      "text/plain": [
       "0.8972355847788859"
      ]
     },
     "execution_count": 283,
     "metadata": {
      "tags": []
     },
     "output_type": "execute_result"
    }
   ],
   "source": [
    "from sklearn.metrics import roc_auc_score\n",
    "roc_auc_score(y_val, y_pred_prob)"
   ]
  },
  {
   "cell_type": "code",
   "execution_count": 287,
   "metadata": {
    "colab": {
     "base_uri": "https://localhost:8080/",
     "height": 442
    },
    "colab_type": "code",
    "id": "HfcZxI9X10oj",
    "outputId": "ab99a1f1-07f0-4fdb-bc89-04822b011a5c"
   },
   "outputs": [
    {
     "name": "stdout",
     "output_type": "stream",
     "text": [
      "Included Features: \n",
      "game_pk\n",
      "game_date\n",
      "opponent\n",
      "final_away_runs\n",
      "final_home_runs\n",
      "batter\n",
      "pitch_category\n",
      "on_1b\n",
      "on_2b\n",
      "away_team_id\n",
      "\n",
      "\n",
      "Excluded Features: \n",
      "game_id\n",
      "inning\n",
      "top_bottom\n",
      "at_bat_event\n",
      "pitch_type_code\n",
      "call_code\n",
      "description\n",
      "on_3b\n",
      "home_team_id\n",
      "hit\n",
      "on_base\n"
     ]
    }
   ],
   "source": [
    "# Check which features were selected\n",
    "included_mask = pipeline['selectkbest'].get_support()\n",
    "all_names = X_train.columns\n",
    "included_names = all_names[included_mask]\n",
    "\n",
    "# the tilde operator returns included_mask's compliment\n",
    "excluded_names = all_names[~included_mask]\n",
    "\n",
    "print('Included Features: ')\n",
    "for name in included_names:\n",
    "  print(name)\n",
    "print('\\n')\n",
    "print('Excluded Features: ')\n",
    "for name in excluded_names:\n",
    "  print(name)"
   ]
  },
  {
   "cell_type": "code",
   "execution_count": 0,
   "metadata": {
    "colab": {},
    "colab_type": "code",
    "id": "KuOdVqqH3eAl"
   },
   "outputs": [],
   "source": []
  }
 ],
 "metadata": {
  "colab": {
   "include_colab_link": true,
   "name": "Unit2_Build_Project.ipynb",
   "provenance": []
  },
  "kernelspec": {
   "display_name": "Python 3",
   "language": "python",
   "name": "python3"
  },
  "language_info": {
   "codemirror_mode": {
    "name": "ipython",
    "version": 3
   },
   "file_extension": ".py",
   "mimetype": "text/x-python",
   "name": "python",
   "nbconvert_exporter": "python",
   "pygments_lexer": "ipython3",
   "version": "3.7.6"
  }
 },
 "nbformat": 4,
 "nbformat_minor": 1
}
